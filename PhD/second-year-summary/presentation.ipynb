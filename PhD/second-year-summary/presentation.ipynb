{
 "cells": [
  {
   "cell_type": "markdown",
   "metadata": {
    "deletable": true,
    "editable": true,
    "slideshow": {
     "slide_type": "slide"
    }
   },
   "source": [
    "<p>\n",
    "<img src=\"http://www.cerm.unifi.it/chianti/images/logo%20unifi_positivo.jpg\" \n",
    "        alt=\"UniFI logo\" style=\"float: left; width: 20%; height: 20%;\">\n",
    "<div align=\"right\">\n",
    "<small>\n",
    "<br>October 5, 2017: second draft\n",
    "<br>October 3, 2017: first draft\n",
    "</small>\n",
    "</div>\n",
    "</p>\n",
    "<br>\n",
    "<p>\n",
    "<div align=\"center\">\n",
    "<b>Abstract</b><br>\n",
    "This presentation is a summary of the work I've done during the second year\n",
    "<br>of my PhD course in Computer Science, XXXI cycle @ UniFI\n",
    "</div>\n",
    "</p>"
   ]
  },
  {
   "cell_type": "code",
   "execution_count": 141,
   "metadata": {
    "collapsed": true,
    "deletable": true,
    "editable": true,
    "slideshow": {
     "slide_type": "skip"
    }
   },
   "outputs": [],
   "source": [
    "from IPython.display import Markdown, Image, Latex\n",
    "\n",
    "from collections import defaultdict\n",
    "\n",
    "from muk.core import *\n",
    "from muk.ext import *\n",
    "\n",
    "toc = [\"\", \"exams & courses & conferences\", \"what I've done\", \"what I'm working on\"]#, \"thesis arguments\"]\n",
    "toc_iter = iter(toc[1:])\n",
    "\n",
    "def reference_to_this_talk():\n",
    "    src = '<a href=\"{href}\">{href}</a>'\n",
    "    return Markdown(src.format(href=r'http://massimo-nocentini.github.io/PhD/second-year-summary/talk.html'))\n",
    "\n",
    "def table_of_contents():\n",
    "    src = r'# TOC'\n",
    "    return Markdown('\\n- '.join(toc))\n",
    "\n",
    "def greetings(smiley=True):\n",
    "    return Markdown(\"<h1>{greet} {smile}</h1>\".format(\n",
    "        greet=\"Thanks for coming \", smile=\":)\" if smiley else \"\"))\n",
    "\n",
    "def next_topic():\n",
    "    return Markdown(\"# {topic}\".format(topic=next(toc_iter)))"
   ]
  },
  {
   "cell_type": "code",
   "execution_count": 142,
   "metadata": {
    "collapsed": false,
    "deletable": true,
    "editable": true
   },
   "outputs": [
    {
     "data": {
      "text/markdown": [
       "<a href=\"http://massimo-nocentini.github.io/PhD/second-year-summary/talk.html\">http://massimo-nocentini.github.io/PhD/second-year-summary/talk.html</a>"
      ],
      "text/plain": [
       "<IPython.core.display.Markdown object>"
      ]
     },
     "execution_count": 142,
     "metadata": {},
     "output_type": "execute_result"
    }
   ],
   "source": [
    "__AUTHOR__ = (\"Massimo Nocentini\", \n",
    "              \"massimo.nocentini@unifi.it\", \n",
    "              \"https://github.com/massimo-nocentini/\")\n",
    "\n",
    "__SUPERVISOR__ = (\"Donatella Merlini \", \n",
    "                  \"donatella.merlini@unifi.it\")\n",
    "\n",
    "__ACKNOWLEDGEMENT__ = [\"Giovanni Marchetti\", \"Marco Maggesi\", \"Antonio Bernini\",]\n",
    "\n",
    "reference_to_this_talk()"
   ]
  },
  {
   "cell_type": "code",
   "execution_count": 143,
   "metadata": {
    "collapsed": false,
    "deletable": true,
    "editable": true,
    "slideshow": {
     "slide_type": "subslide"
    }
   },
   "outputs": [
    {
     "data": {
      "text/markdown": [
       "\n",
       "- exams & courses & conferences\n",
       "- what I've done\n",
       "- what I'm working on"
      ],
      "text/plain": [
       "<IPython.core.display.Markdown object>"
      ]
     },
     "execution_count": 143,
     "metadata": {},
     "output_type": "execute_result"
    }
   ],
   "source": [
    "table_of_contents()"
   ]
  },
  {
   "cell_type": "code",
   "execution_count": 144,
   "metadata": {
    "collapsed": false,
    "deletable": true,
    "editable": true,
    "slideshow": {
     "slide_type": "slide"
    }
   },
   "outputs": [
    {
     "data": {
      "text/markdown": [
       "# exams & courses & conferences"
      ],
      "text/plain": [
       "<IPython.core.display.Markdown object>"
      ]
     },
     "execution_count": 144,
     "metadata": {},
     "output_type": "execute_result"
    }
   ],
   "source": [
    "next_topic()"
   ]
  },
  {
   "cell_type": "markdown",
   "metadata": {
    "deletable": true,
    "editable": true,
    "slideshow": {
     "slide_type": "subslide"
    }
   },
   "source": [
    "### Analysis of algorithms and data structures through Riordan arrays\n",
    "\n",
    "taught by professor Donatella Merlini, 2 CFU: \n",
    "- we studied enumeration of _binary words avoiding patterns_\n",
    "- submitted a related paper __Algebraic generating functions for languages avoiding Riordan patterns__\n",
    "    - received a review in July, just resubmitted with fixes\n",
    "- more on this in a little while..."
   ]
  },
  {
   "cell_type": "markdown",
   "metadata": {
    "deletable": true,
    "editable": true,
    "slideshow": {
     "slide_type": "subslide"
    }
   },
   "source": [
    "### Advanced programming techniques\n",
    "\n",
    "taught by professor Lorenzo Bettini, 2 CFU:\n",
    "- hard practice about _TDD, BDD_ and _CI_, the Pythonic way of course\n",
    "- reworked on my own the _bootstrap of a TDD framework_ inspired by [Kent Beck][beck]\n",
    "- more on this [here][repo]\n",
    "\n",
    "[repo]:https://github.com/massimo-nocentini/advanced-programming-techniques-course\n",
    "[beck]:https://www.amazon.it/Test-Driven-Development-Example-Kent-Beck/dp/0321146530/ref=sr_1_1?s=english-books&ie=UTF8&qid=1507040431&sr=1-1&keywords=beck+test+driven+development"
   ]
  },
  {
   "cell_type": "markdown",
   "metadata": {
    "deletable": true,
    "editable": true,
    "slideshow": {
     "slide_type": "subslide"
    }
   },
   "source": [
    "### Bayesian methods for high-dimensional data\n",
    "\n",
    "taught by professor Francesco Stingo, 2 CFU:\n",
    "- new topics for me: _bayesian model selection for GLM_ and _high-dimension graphical model_\n",
    "- worked through _Evolutionary Stochastic Search_, Gibbs and Metropolis-Hastings samplers\n",
    "- more on this [here][repo]\n",
    "\n",
    "[repo]:https://github.com/massimo-nocentini/statistical-models/tree/master/bayesian-inference"
   ]
  },
  {
   "cell_type": "markdown",
   "metadata": {
    "deletable": true,
    "editable": true,
    "slideshow": {
     "slide_type": "subslide"
    }
   },
   "source": [
    "### Statistical learning\n",
    "\n",
    "taught by professor Giovanni Maria Marchetti, 3 CFU:\n",
    "- new topics for me: _graphical models_ and _categorical data analysis_\n",
    "- worked through _Decomposition by clique separators_, theoretically\n",
    "- more on this [here][repo]\n",
    "\n",
    "[repo]:https://github.com/massimo-nocentini/statistical-models/tree/master/clique-separators"
   ]
  },
  {
   "cell_type": "markdown",
   "metadata": {
    "deletable": true,
    "editable": true,
    "slideshow": {
     "slide_type": "subslide"
    }
   },
   "source": [
    "## Present and Future exams\n",
    "\n",
    "### Numerical methods for simulation\n",
    "\n",
    "taught by professor Luigi Brugnano, 3 CFU: _functions of matrices_.\n",
    "\n",
    "### Graph mining\n",
    "\n",
    "taught by professor Pierluigi Crescenzi, 3 CFU: _OEIS sequences networks_."
   ]
  },
  {
   "cell_type": "markdown",
   "metadata": {
    "deletable": true,
    "editable": true,
    "slideshow": {
     "slide_type": "subslide"
    }
   },
   "source": [
    "## Conferences\n",
    "\n",
    "Last July, in Rimini, __EUROPYTHON__, https://ep2017.europython.eu/en/\n",
    "- attended almost _pydata_ and _core language_ sessions\n",
    "- met _Alex Martelli_\n",
    "\n",
    "Last September, in Oxford, __ICFP2017__, https://icfp17.sigplan.org/\n",
    "- served as _student volounteer_\n",
    "- attended all ICFP talks\n",
    "\n",
    "## SKKU open school\n",
    "\n",
    "Given two talks (the first one [recorded][youtube]) at open school _Combinatorial methods in the analysis of algorithms and data structures_ ([link][os]) February 20-24, Suwon, Korea.\n",
    "\n",
    "[youtube]:https://www.youtube.com/watch?v=6w8oi2VeFDM\n",
    "[os]:http://shb.skku.edu/aorc/conference_info/new.jsp"
   ]
  },
  {
   "cell_type": "code",
   "execution_count": 145,
   "metadata": {
    "collapsed": false,
    "deletable": true,
    "editable": true,
    "slideshow": {
     "slide_type": "slide"
    }
   },
   "outputs": [
    {
     "data": {
      "text/markdown": [
       "# what I've done"
      ],
      "text/plain": [
       "<IPython.core.display.Markdown object>"
      ]
     },
     "execution_count": 145,
     "metadata": {},
     "output_type": "execute_result"
    }
   ],
   "source": [
    "next_topic()"
   ]
  },
  {
   "cell_type": "markdown",
   "metadata": {
    "deletable": true,
    "editable": true,
    "slideshow": {
     "slide_type": "subslide"
    }
   },
   "source": [
    "## in a nutshell\n",
    "\n",
    "theoretical stuff:\n",
    "- submitted a paper with Donatella for my master thesis about _binary words enumerations_\n",
    "- application of the framework of _functions matrices_ to the _Riordan group_\n",
    "\n",
    "coding stuff:\n",
    " - 70% Python\n",
    "   - rewritten a set of tools to mine the [OEIS][oeis]\n",
    "   - written a _complete_ port of _microKanren_\n",
    " - 20% Lisp\n",
    "   - [MiniKanren][mk] under the hood\n",
    " - 10% OCaml\n",
    "   - begin a _certified_ implementation of microKanren into _HOL Light_, joint work with professor _Marco Maggesi_\n",
    "   \n",
    "[mk]:http://minikanren.org/\n",
    "\n",
    "[oeis]:http://oeis.org/"
   ]
  },
  {
   "cell_type": "markdown",
   "metadata": {
    "slideshow": {
     "slide_type": "slide"
    }
   },
   "source": [
    "## theoretical time"
   ]
  },
  {
   "cell_type": "markdown",
   "metadata": {
    "deletable": true,
    "editable": true,
    "slideshow": {
     "slide_type": "slide"
    }
   },
   "source": [
    "## practical time"
   ]
  },
  {
   "cell_type": "markdown",
   "metadata": {
    "slideshow": {
     "slide_type": "subslide"
    }
   },
   "source": [
    "meet _microKanren_"
   ]
  },
  {
   "cell_type": "code",
   "execution_count": 96,
   "metadata": {
    "collapsed": false,
    "slideshow": {
     "slide_type": "subslide"
    }
   },
   "outputs": [
    {
     "data": {
      "text/plain": [
       "▢₀"
      ]
     },
     "execution_count": 96,
     "metadata": {},
     "output_type": "execute_result"
    }
   ],
   "source": [
    "rvar(0) # a logic variable"
   ]
  },
  {
   "cell_type": "code",
   "execution_count": 97,
   "metadata": {
    "collapsed": false,
    "deletable": true,
    "editable": true,
    "slideshow": {
     "slide_type": "fragment"
    }
   },
   "outputs": [
    {
     "data": {
      "text/plain": [
       "[Tautology]"
      ]
     },
     "execution_count": 97,
     "metadata": {},
     "output_type": "execute_result"
    }
   ],
   "source": [
    "run(succeed) # a goal that always succeeds"
   ]
  },
  {
   "cell_type": "code",
   "execution_count": 98,
   "metadata": {
    "collapsed": false,
    "deletable": true,
    "editable": true,
    "slideshow": {
     "slide_type": "fragment"
    }
   },
   "outputs": [
    {
     "data": {
      "image/png": "[encoded data removed]",
      "text/latex": [
       "$$\\left [ \\right ]$$"
      ],
      "text/plain": [
       "[]"
      ]
     },
     "execution_count": 98,
     "metadata": {},
     "output_type": "execute_result"
    }
   ],
   "source": [
    "run(fail) # a goal that always fails"
   ]
  },
  {
   "cell_type": "code",
   "execution_count": 99,
   "metadata": {
    "collapsed": false,
    "slideshow": {
     "slide_type": "fragment"
    }
   },
   "outputs": [
    {
     "data": {
      "text/plain": [
       "[▢₀]"
      ]
     },
     "execution_count": 99,
     "metadata": {},
     "output_type": "execute_result"
    }
   ],
   "source": [
    "run(fresh(lambda q: succeed)) # a free variable without association"
   ]
  },
  {
   "cell_type": "code",
   "execution_count": 100,
   "metadata": {
    "collapsed": false,
    "slideshow": {
     "slide_type": "fragment"
    }
   },
   "outputs": [
    {
     "data": {
      "text/plain": [
       "[Tautology]"
      ]
     },
     "execution_count": 100,
     "metadata": {},
     "output_type": "execute_result"
    }
   ],
   "source": [
    "run(unify(3, 3)) # unification of ground values"
   ]
  },
  {
   "cell_type": "code",
   "execution_count": 101,
   "metadata": {
    "collapsed": false,
    "slideshow": {
     "slide_type": "fragment"
    }
   },
   "outputs": [
    {
     "data": {
      "image/png": "[encoded data removed]",
      "text/latex": [
       "$$\\left [ 3\\right ]$$"
      ],
      "text/plain": [
       "[3]"
      ]
     },
     "execution_count": 101,
     "metadata": {},
     "output_type": "execute_result"
    }
   ],
   "source": [
    "run(fresh(lambda q: unify(3, q))) # unification of a variable"
   ]
  },
  {
   "cell_type": "code",
   "execution_count": 102,
   "metadata": {
    "collapsed": false,
    "slideshow": {
     "slide_type": "fragment"
    }
   },
   "outputs": [
    {
     "data": {
      "image/png": "[encoded data removed]",
      "text/latex": [
       "$$\\left [ \\left [ 2, \\quad 3\\right ]\\right ]$$"
      ],
      "text/plain": [
       "[[2, 3]]"
      ]
     },
     "execution_count": 102,
     "metadata": {},
     "output_type": "execute_result"
    }
   ],
   "source": [
    "run(fresh(lambda q: unify([[2, 3], 1, 2, 3], [q, 1] + q))) # list unification"
   ]
  },
  {
   "cell_type": "code",
   "execution_count": 103,
   "metadata": {
    "collapsed": false,
    "slideshow": {
     "slide_type": "subslide"
    }
   },
   "outputs": [
    {
     "data": {
      "image/png": "[encoded data removed]",
      "text/latex": [
       "$$\\left [ 3\\right ]$$"
      ],
      "text/plain": [
       "[3]"
      ]
     },
     "execution_count": 103,
     "metadata": {},
     "output_type": "execute_result"
    }
   ],
   "source": [
    "run(fresh(lambda q, z: unify(q, z) & unify(z, 3))) # co-sharing"
   ]
  },
  {
   "cell_type": "code",
   "execution_count": 104,
   "metadata": {
    "collapsed": false,
    "slideshow": {
     "slide_type": "fragment"
    }
   },
   "outputs": [
    {
     "data": {
      "text/plain": [
       "[False, True]"
      ]
     },
     "execution_count": 104,
     "metadata": {},
     "output_type": "execute_result"
    }
   ],
   "source": [
    "run(fresh(lambda q: unify(q, False) | unify(q, True))) # disjunction"
   ]
  },
  {
   "cell_type": "code",
   "execution_count": 105,
   "metadata": {
    "collapsed": false,
    "slideshow": {
     "slide_type": "fragment"
    }
   },
   "outputs": [
    {
     "data": {
      "text/plain": [
       "[True]"
      ]
     },
     "execution_count": 105,
     "metadata": {},
     "output_type": "execute_result"
    }
   ],
   "source": [
    "run(fresh(lambda q: fresh(lambda q: unify(q, False)) & \n",
    "          unify(q, True))) # conjunction"
   ]
  },
  {
   "cell_type": "code",
   "execution_count": 106,
   "metadata": {
    "collapsed": false,
    "slideshow": {
     "slide_type": "fragment"
    }
   },
   "outputs": [
    {
     "data": {
      "text/plain": [
       "[['paul', 'tom'], ['jason', 'peter'], ['tom', 'brian']]"
      ]
     },
     "execution_count": 106,
     "metadata": {},
     "output_type": "execute_result"
    }
   ],
   "source": [
    "def father(p, s):\n",
    "    return conde([unify(p, 'paul'), unify(s, 'jason')],\n",
    "                 [unify(p, 'john'), unify(s, 'henry')],\n",
    "                 [unify(p, 'jason'), unify(s, 'tom')],\n",
    "                 [unify(p, 'peter'), unify(s, 'brian')],\n",
    "                 [unify(p, 'tom'), unify(s, 'peter')])\n",
    "\n",
    "def grand_father(g, s):\n",
    "    return fresh(lambda p: father(g, p) & father(p, s))\n",
    "\n",
    "run(fresh(lambda rel, p, s: grand_father(p, s) & unify([p, s], rel)))"
   ]
  },
  {
   "cell_type": "code",
   "execution_count": 127,
   "metadata": {
    "collapsed": false,
    "slideshow": {
     "slide_type": "subslide"
    }
   },
   "outputs": [],
   "source": [
    "def fives(x):\n",
    "    return unify(5, x) | fives(x)\n",
    "\n",
    "try:\n",
    "    run(fresh(lambda x: fives(x)))\n",
    "except RecursionError:\n",
    "    pass"
   ]
  },
  {
   "cell_type": "code",
   "execution_count": 128,
   "metadata": {
    "collapsed": false,
    "deletable": true,
    "editable": true,
    "slideshow": {
     "slide_type": "fragment"
    }
   },
   "outputs": [
    {
     "data": {
      "text/plain": [
       "[5, ▢₀, ▢₀, ▢₀, ▢₀, ▢₀, ▢₀, ▢₀, ▢₀, ▢₀]"
      ]
     },
     "execution_count": 128,
     "metadata": {},
     "output_type": "execute_result"
    }
   ],
   "source": [
    "def fives(x):\n",
    "    return unify(5, x) | fresh(lambda y: fives(y))\n",
    "\n",
    "run(fresh(fives), n=10)"
   ]
  },
  {
   "cell_type": "code",
   "execution_count": 132,
   "metadata": {
    "collapsed": false,
    "deletable": true,
    "editable": true,
    "slideshow": {
     "slide_type": "fragment"
    }
   },
   "outputs": [
    {
     "data": {
      "text/plain": [
       "[state(sub={x₀: 5}, next_index=1),\n",
       " state(sub={x₀: 5}, next_index=1),\n",
       " state(sub={x₀: 5}, next_index=1),\n",
       " state(sub={x₀: 5}, next_index=1),\n",
       " state(sub={x₀: 5}, next_index=1),\n",
       " state(sub={x₀: 5}, next_index=1),\n",
       " state(sub={x₀: 5}, next_index=1),\n",
       " state(sub={x₀: 5}, next_index=1),\n",
       " state(sub={x₀: 5}, next_index=1),\n",
       " state(sub={x₀: 5}, next_index=1)]"
      ]
     },
     "execution_count": 132,
     "metadata": {},
     "output_type": "execute_result"
    }
   ],
   "source": [
    "g = fresh(lambda x: fives(x))\n",
    "states = g(emptystate())\n",
    "[next(states) for i in range(10)]"
   ]
  },
  {
   "cell_type": "code",
   "execution_count": 134,
   "metadata": {
    "collapsed": false,
    "deletable": true,
    "editable": true,
    "slideshow": {
     "slide_type": "fragment"
    }
   },
   "outputs": [
    {
     "data": {
      "image/png": "[encoded data removed]",
      "text/latex": [
       "$$\\left [ 5, \\quad 5, \\quad 5, \\quad 5, \\quad 5, \\quad 5, \\quad 5, \\quad 5, \\quad 5, \\quad 5\\right ]$$"
      ],
      "text/plain": [
       "[5, 5, 5, 5, 5, 5, 5, 5, 5, 5]"
      ]
     },
     "execution_count": 134,
     "metadata": {},
     "output_type": "execute_result"
    }
   ],
   "source": [
    "def fives(x):\n",
    "    return unify(5, x) | fresh(lambda: fives(x))\n",
    "\n",
    "run(fresh(fives), n=10)"
   ]
  },
  {
   "cell_type": "code",
   "execution_count": 135,
   "metadata": {
    "collapsed": false,
    "deletable": true,
    "editable": true,
    "slideshow": {
     "slide_type": "skip"
    }
   },
   "outputs": [
    {
     "data": {
      "text/plain": [
       "[state(sub={x₀: 5}, next_index=1),\n",
       " state(sub={x₀: 5}, next_index=1),\n",
       " state(sub={x₀: 5}, next_index=1),\n",
       " state(sub={x₀: 5}, next_index=1),\n",
       " state(sub={x₀: 5}, next_index=1),\n",
       " state(sub={x₀: 5}, next_index=1),\n",
       " state(sub={x₀: 5}, next_index=1),\n",
       " state(sub={x₀: 5}, next_index=1),\n",
       " state(sub={x₀: 5}, next_index=1),\n",
       " state(sub={x₀: 5}, next_index=1)]"
      ]
     },
     "execution_count": 135,
     "metadata": {},
     "output_type": "execute_result"
    }
   ],
   "source": [
    "g = fresh(lambda x: fives(x))\n",
    "states = g(emptystate())\n",
    "[next(states) for i in range(10)]"
   ]
  },
  {
   "cell_type": "code",
   "execution_count": 125,
   "metadata": {
    "collapsed": false,
    "deletable": true,
    "editable": true,
    "slideshow": {
     "slide_type": "subslide"
    }
   },
   "outputs": [
    {
     "data": {
      "image/png": "[encoded data removed]",
      "text/latex": [
       "$$\\left [ 0, \\quad 1, \\quad 2, \\quad 3, \\quad 4, \\quad 5, \\quad 6, \\quad 7, \\quad 8, \\quad 9\\right ]$$"
      ],
      "text/plain": [
       "[0, 1, 2, 3, 4, 5, 6, 7, 8, 9]"
      ]
     },
     "execution_count": 125,
     "metadata": {},
     "output_type": "execute_result"
    }
   ],
   "source": [
    "def nats(x, n=0):\n",
    "    return unify(n, x) | fresh(lambda: nats(x, n+1))\n",
    "\n",
    "run(fresh(lambda x: nats(x)), n=10)"
   ]
  },
  {
   "cell_type": "code",
   "execution_count": 126,
   "metadata": {
    "collapsed": false,
    "deletable": true,
    "editable": true,
    "slideshow": {
     "slide_type": "skip"
    }
   },
   "outputs": [],
   "source": [
    "def nullo(l):\n",
    "    return unify([], l)\n",
    "\n",
    "def appendo(r, s, out):\n",
    "    def A(r, out):\n",
    "        return conde([nullo(r), unify(s, out)],\n",
    "                     else_clause=fresh(lambda a, d, res:\n",
    "                                           unify([a]+d, r) &\n",
    "                                           unify([a]+res, out) &\n",
    "                                           fresh(lambda: A(d, res))))\n",
    "    return A(r, out)"
   ]
  },
  {
   "cell_type": "code",
   "execution_count": 114,
   "metadata": {
    "collapsed": false,
    "slideshow": {
     "slide_type": "fragment"
    }
   },
   "outputs": [
    {
     "data": {
      "text/plain": [
       "[[1, 2, 3, 4, 5, 6],\n",
       " [1, 2, 3, ▢₀, 4, 5, 6],\n",
       " [1, 2, 3, ▢₀, ▢₁, 4, 5, 6],\n",
       " [1, 2, 3, ▢₀, ▢₁, ▢₂, 4, 5, 6],\n",
       " [1, 2, 3, ▢₀, ▢₁, ▢₂, ▢₃, 4, 5, 6]]"
      ]
     },
     "execution_count": 114,
     "metadata": {},
     "output_type": "execute_result"
    }
   ],
   "source": [
    "run(fresh(lambda l, q: append([1,2,3]+q, [4,5,6], l)), n=5)"
   ]
  },
  {
   "cell_type": "code",
   "execution_count": 115,
   "metadata": {
    "collapsed": false,
    "deletable": true,
    "editable": true,
    "slideshow": {
     "slide_type": "fragment"
    }
   },
   "outputs": [
    {
     "data": {
      "text/plain": [
       "[[[], ['cake', 'with', 'ice', 'd', 't']],\n",
       " [['cake'], ['with', 'ice', 'd', 't']],\n",
       " [['cake', 'with'], ['ice', 'd', 't']],\n",
       " [['cake', 'with', 'ice'], ['d', 't']],\n",
       " [['cake', 'with', 'ice', 'd'], ['t']],\n",
       " [['cake', 'with', 'ice', 'd', 't'], []]]"
      ]
     },
     "execution_count": 115,
     "metadata": {},
     "output_type": "execute_result"
    }
   ],
   "source": [
    "run(fresh(lambda r, x, y:\n",
    "          append(x, y, ['cake', 'with', 'ice', 'd', 't']) &\n",
    "          unify([x, y], r))) "
   ]
  },
  {
   "cell_type": "code",
   "execution_count": 169,
   "metadata": {
    "collapsed": false,
    "deletable": true,
    "editable": true,
    "slideshow": {
     "slide_type": "subslide"
    }
   },
   "outputs": [],
   "source": [
    "def dycko(α):\n",
    "    return conde([nullo(α), succeed],\n",
    "                  else_clause=fresh(lambda β, γ:\n",
    "                                    append(['(']+β, [')']+γ, α) @ \n",
    "                                            (dycko(β) @ dycko(γ))))\n",
    "\n",
    "paths = run(fresh(lambda α: dycko(α)), n=90)\n",
    "D = defaultdict(list)\n",
    "for α in map(lambda α: ''.join(α), paths):\n",
    "    D[len(α)//2].append(α)"
   ]
  },
  {
   "cell_type": "code",
   "execution_count": 170,
   "metadata": {
    "collapsed": true,
    "slideshow": {
     "slide_type": "skip"
    }
   },
   "outputs": [],
   "source": [
    "from collections import namedtuple\n",
    "\n",
    "dyck = namedtuple('dick', ['paths', 'count'])"
   ]
  },
  {
   "cell_type": "code",
   "execution_count": 171,
   "metadata": {
    "collapsed": false,
    "slideshow": {
     "slide_type": "fragment"
    }
   },
   "outputs": [
    {
     "data": {
      "text/plain": [
       "[dick(paths=[''], count=1),\n",
       " dick(paths=['()'], count=1),\n",
       " dick(paths=['()()', '(())'], count=2),\n",
       " dick(paths=['()()()', '(())()', '()(())', '(()())', '((()))'], count=5),\n",
       " dick(paths=['(())()()', '()()()()', '(())(())', '()(())()', '(()()())', '(()())()', '()()(())', '(()(()))', '((()))()', '()(()())', '((())())', '()((()))', '((()()))', '(((())))'], count=14),\n",
       " dick(paths=['(())()()()', '(())(())()', '(()()()())', '(()()())()', '(()())()()', '(())()(())', '()(())()()', '(()()(()))', '((()))()()', '(())(()())', '()()()()()', '(()(()))()', '(()())(())', '((())()())', '((()))(())', '()(())(())', '(())((()))', '()()(())()', '((())())()', '()(()()())', '(()(())())', '()(()())()', '()()()(())', '((()()))()'], count=24)]"
      ]
     },
     "execution_count": 171,
     "metadata": {},
     "output_type": "execute_result"
    }
   ],
   "source": [
    "[dyck(paths, len(paths)) for i in range(6) for paths in [D[i]]]"
   ]
  },
  {
   "cell_type": "code",
   "execution_count": 150,
   "metadata": {
    "collapsed": false,
    "slideshow": {
     "slide_type": "subslide"
    }
   },
   "outputs": [],
   "source": [
    "from sympy import IndexedBase, symbols, latex, init_printing\n",
    "init_printing()\n",
    "P = IndexedBase('P')\n",
    "n, m = symbols('n m')\n",
    "def pascalo(depth, r, c, α):\n",
    "    if not depth: return unify([P[r,c]], α)\n",
    "    return fresh(lambda β, γ: (pascalo(depth-1, r-1, c-1, β) @\n",
    "                               pascalo(depth-1, r-1, c, γ) @\n",
    "                               append(β, γ, α)))\n",
    "\n",
    "unfoldings = [run(fresh(lambda α: pascalo(d, n, m, α))) for d in range(1, 6)]"
   ]
  },
  {
   "cell_type": "code",
   "execution_count": 152,
   "metadata": {
    "collapsed": false,
    "slideshow": {
     "slide_type": "fragment"
    }
   },
   "outputs": [
    {
     "data": {
      "image/png": "[encoded data removed]",
      "text/latex": [
       "$$\\left [ P_{n - 1,m} + P_{n - 1,m - 1}, \\quad P_{n - 2,m} + P_{n - 2,m - 2} + 2 P_{n - 2,m - 1}, \\quad P_{n - 3,m} + P_{n - 3,m - 3} + 3 P_{n - 3,m - 2} + 3 P_{n - 3,m - 1}, \\quad P_{n - 4,m} + P_{n - 4,m - 4} + 4 P_{n - 4,m - 3} + 6 P_{n - 4,m - 2} + 4 P_{n - 4,m - 1}, \\quad P_{n - 5,m} + P_{n - 5,m - 5} + 5 P_{n - 5,m - 4} + 10 P_{n - 5,m - 3} + 10 P_{n - 5,m - 2} + 5 P_{n - 5,m - 1}\\right ]$$"
      ],
      "text/plain": [
       "[P[n - 1, m] + P[n - 1, m - 1], P[n - 2, m] + P[n - 2, m - 2] + 2⋅P[n - 2, m -\n",
       " 1], P[n - 3, m] + P[n - 3, m - 3] + 3⋅P[n - 3, m - 2] + 3⋅P[n - 3, m - 1], P[\n",
       "n - 4, m] + P[n - 4, m - 4] + 4⋅P[n - 4, m - 3] + 6⋅P[n - 4, m - 2] + 4⋅P[n - \n",
       "4, m - 1], P[n - 5, m] + P[n - 5, m - 5] + 5⋅P[n - 5, m - 4] + 10⋅P[n - 5, m -\n",
       " 3] + 10⋅P[n - 5, m - 2] + 5⋅P[n - 5, m - 1]]"
      ]
     },
     "execution_count": 152,
     "metadata": {},
     "output_type": "execute_result"
    }
   ],
   "source": [
    "list(map(lambda unfold: sum(unfold[0]), unfoldings)) "
   ]
  },
  {
   "cell_type": "code",
   "execution_count": 151,
   "metadata": {
    "collapsed": false,
    "deletable": true,
    "editable": true,
    "slideshow": {
     "slide_type": "slide"
    }
   },
   "outputs": [
    {
     "ename": "StopIteration",
     "evalue": "",
     "output_type": "error",
     "traceback": [
      "\u001b[0;31m-----------------------------------------------------------------\u001b[0m",
      "\u001b[0;31mStopIteration\u001b[0m                   Traceback (most recent call last)",
      "\u001b[0;32m<ipython-input-151-c8abd0051dc8>\u001b[0m in \u001b[0;36m<module>\u001b[0;34m()\u001b[0m\n\u001b[0;32m----> 1\u001b[0;31m \u001b[0mnext_topic\u001b[0m\u001b[0;34m(\u001b[0m\u001b[0;34m)\u001b[0m\u001b[0;34m\u001b[0m\u001b[0m\n\u001b[0m",
      "\u001b[0;32m<ipython-input-141-05bb988d151f>\u001b[0m in \u001b[0;36mnext_topic\u001b[0;34m()\u001b[0m\n\u001b[1;32m     22\u001b[0m \u001b[0;34m\u001b[0m\u001b[0m\n\u001b[1;32m     23\u001b[0m \u001b[0;32mdef\u001b[0m \u001b[0mnext_topic\u001b[0m\u001b[0;34m(\u001b[0m\u001b[0;34m)\u001b[0m\u001b[0;34m:\u001b[0m\u001b[0;34m\u001b[0m\u001b[0m\n\u001b[0;32m---> 24\u001b[0;31m     \u001b[0;32mreturn\u001b[0m \u001b[0mMarkdown\u001b[0m\u001b[0;34m(\u001b[0m\u001b[0;34m\"# {topic}\"\u001b[0m\u001b[0;34m.\u001b[0m\u001b[0mformat\u001b[0m\u001b[0;34m(\u001b[0m\u001b[0mtopic\u001b[0m\u001b[0;34m=\u001b[0m\u001b[0mnext\u001b[0m\u001b[0;34m(\u001b[0m\u001b[0mtoc_iter\u001b[0m\u001b[0;34m)\u001b[0m\u001b[0;34m)\u001b[0m\u001b[0;34m)\u001b[0m\u001b[0;34m\u001b[0m\u001b[0m\n\u001b[0m",
      "\u001b[0;31mStopIteration\u001b[0m: "
     ]
    }
   ],
   "source": [
    "next_topic()"
   ]
  },
  {
   "cell_type": "markdown",
   "metadata": {
    "deletable": true,
    "editable": true,
    "slideshow": {
     "slide_type": "skip"
    }
   },
   "source": [
    "- *recursively defined structures*, both *inductively* and *co*-inductively\n",
    "- *code abstract systems*, such as rewriting rules, ECO method and Riordan arrays\n",
    "- *code formal methods*, such as repertoire method, LIF, diagonalization, ...\n",
    "- *representation of dynamic systems*, mainly fractals\n",
    "- `(Y Y)` works, you do know `Y`, didn't you? *Quine generation* with MiniKanren\n",
    "- *reasong about Smullyan machines*, especially those that talk about themselves"
   ]
  },
  {
   "cell_type": "code",
   "execution_count": 153,
   "metadata": {
    "collapsed": false,
    "deletable": true,
    "editable": true,
    "slideshow": {
     "slide_type": "slide"
    }
   },
   "outputs": [],
   "source": [
    "try: \n",
    "    next_topic()\n",
    "except StopIteration: \n",
    "    import this"
   ]
  },
  {
   "cell_type": "code",
   "execution_count": 148,
   "metadata": {
    "collapsed": false,
    "deletable": true,
    "editable": true,
    "slideshow": {
     "slide_type": "-"
    }
   },
   "outputs": [
    {
     "data": {
      "text/markdown": [
       "<h1>Thanks for coming  :)</h1>"
      ],
      "text/plain": [
       "<IPython.core.display.Markdown object>"
      ]
     },
     "execution_count": 148,
     "metadata": {},
     "output_type": "execute_result"
    }
   ],
   "source": [
    "greetings(smiley=True)"
   ]
  },
  {
   "cell_type": "markdown",
   "metadata": {
    "deletable": true,
    "editable": true,
    "slideshow": {
     "slide_type": "skip"
    }
   },
   "source": [
    "---\n",
    "<a rel=\"license\" href=\"http://creativecommons.org/licenses/by-nc-sa/4.0/\"><img alt=\"Creative Commons License\" style=\"border-width:0\" src=\"https://i.creativecommons.org/l/by-nc-sa/4.0/88x31.png\" /></a><br />This work is licensed under a <a rel=\"license\" href=\"http://creativecommons.org/licenses/by-nc-sa/4.0/\">Creative Commons Attribution-NonCommercial-ShareAlike 4.0 International License</a>."
   ]
  }
 ],
 "metadata": {
  "celltoolbar": "Slideshow",
  "kernelspec": {
   "display_name": "Python 3",
   "language": "python",
   "name": "python3"
  },
  "language_info": {
   "codemirror_mode": {
    "name": "ipython",
    "version": 3
   },
   "file_extension": ".py",
   "mimetype": "text/x-python",
   "name": "python",
   "nbconvert_exporter": "python",
   "pygments_lexer": "ipython3",
   "version": "3.6.0"
  }
 },
 "nbformat": 4,
 "nbformat_minor": 0
}
