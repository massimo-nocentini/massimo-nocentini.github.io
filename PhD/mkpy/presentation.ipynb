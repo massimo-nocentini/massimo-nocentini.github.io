{
 "cells": [
  {
   "cell_type": "markdown",
   "metadata": {
    "deletable": true,
    "editable": true,
    "slideshow": {
     "slide_type": "slide"
    }
   },
   "source": [
    "<p>\n",
    "<img src=\"http://www.cerm.unifi.it/chianti/images/logo%20unifi_positivo.jpg\" \n",
    "        alt=\"UniFI logo\" style=\"float: left; width: 20%; height: 20%;\">\n",
    "<div align=\"right\">\n",
    "<small>\n",
    "<br>November 9, 2017: refutation\n",
    "<br>November 8, 2017: sets\n",
    "<br>November 7, 2017: init\n",
    "</small>\n",
    "</div>\n",
    "</p>"
   ]
  },
  {
   "cell_type": "code",
   "execution_count": 6,
   "metadata": {
    "collapsed": true,
    "deletable": true,
    "editable": true,
    "slideshow": {
     "slide_type": "skip"
    }
   },
   "outputs": [],
   "source": [
    "from IPython.display import Markdown, Image, Latex\n",
    "\n",
    "from collections import defaultdict\n",
    "\n",
    "from muk.core import *\n",
    "from muk.ext import *\n",
    "from mclock import *\n",
    "\n",
    "from sympy import IndexedBase, symbols, latex, init_printing, Eq, Matrix, binomial\n",
    "init_printing()\n",
    "\n",
    "\n",
    "toc = [\"\", \"exams & courses & conferences\", \"what I've done\", \"what I'm working on\"]#, \"thesis arguments\"]\n",
    "toc_iter = iter(toc[1:])\n",
    "\n",
    "def reference_to_this_talk():\n",
    "    src = '<a href=\"{href}\">{href}</a>'\n",
    "    return Markdown(src.format(href=r'http://massimo-nocentini.github.io/PhD/second-year-summary/talk.html'))\n",
    "\n",
    "def table_of_contents():\n",
    "    src = r'# TOC'\n",
    "    return Markdown('\\n- '.join(toc))\n",
    "\n",
    "def greetings(smiley=True):\n",
    "    return Markdown(\"<h1>{greet} {smile}</h1>\".format(\n",
    "        greet=\"Thanks for coming \", smile=\":)\" if smiley else \"\"))\n",
    "\n",
    "def next_topic():\n",
    "    return Markdown(\"# {topic}\".format(topic=next(toc_iter)))"
   ]
  },
  {
   "cell_type": "code",
   "execution_count": 3,
   "metadata": {
    "collapsed": false,
    "deletable": true,
    "editable": true,
    "slideshow": {
     "slide_type": "-"
    }
   },
   "outputs": [],
   "source": [
    "__AUTHOR__ = (\"Massimo Nocentini\", \n",
    "              \"massimo.nocentini@unifi.it\", \n",
    "              \"https://github.com/massimo-nocentini/\")\n",
    "\n",
    "__ACKNOWLEDGEMENT__ = {\"Beatrice Donati\", \"Marco Maggesi\", }\n",
    "\n",
    "__ABSTRACT__ = '''\n",
    "\n",
    "    The relational language __microkanren__ is presented as a goal-based,\n",
    "    Pythonic implementation with a *fair, complete* search strategy.\n",
    "\n",
    "'''\n",
    "\n",
    "__SELF__ = r'http://massimo-nocentini.github.io/PhD/mkpy/talk.html'"
   ]
  },
  {
   "cell_type": "markdown",
   "metadata": {
    "deletable": true,
    "editable": true,
    "slideshow": {
     "slide_type": "slide"
    }
   },
   "source": [
    "# raw outline\n",
    "\n",
    "- programming *abstractions* and *paradigms*: *logic* to the rescue \n",
    "- *microkanren* relational language\n",
    "- examples of *puzzles* and *combinatorics*"
   ]
  },
  {
   "cell_type": "markdown",
   "metadata": {
    "deletable": true,
    "editable": true,
    "slideshow": {
     "slide_type": "slide"
    }
   },
   "source": [
    "## it comes down to *sets*, eventually\n",
    "\n",
    "- our main track concerns generation of __sets__, possibly *inductively* defined\n",
    "- how programming languages allow us to do that?\n",
    "- is it easy in every paradigm? \n",
    "    - what about imperative? functional? ...*relational*?\n",
    "- by Church-Turing thesis, it should be possible even in *assembly* code\n",
    "    - what if some kind of *elegance* is required?\n",
    "    - don't you code not-so-easy to grasp implementation, do you?"
   ]
  },
  {
   "cell_type": "markdown",
   "metadata": {
    "deletable": true,
    "editable": true,
    "slideshow": {
     "slide_type": "slide"
    }
   },
   "source": [
    "# *primes* numbers\n",
    "\n",
    "generate them using the [sieve of Eratosthenes][sieve]:\n",
    "\n",
    ">iteratively mark as composite the multiples of each prime, starting with the first prime number, 2. The multiples of a given prime are generated as a sequence of numbers starting from that prime, with constant difference between them that is equal to that prime.\n",
    "\n",
    "[sieve]:https://en.wikipedia.org/wiki/Sieve_of_Eratosthenes"
   ]
  },
  {
   "cell_type": "markdown",
   "metadata": {
    "deletable": true,
    "editable": true,
    "slideshow": {
     "slide_type": "subslide"
    }
   },
   "source": [
    "## imperative style"
   ]
  },
  {
   "cell_type": "code",
   "execution_count": 3,
   "metadata": {
    "collapsed": true,
    "deletable": true,
    "editable": true,
    "slideshow": {
     "slide_type": "-"
    }
   },
   "outputs": [],
   "source": [
    "def filter_primes(primes):\n",
    "    \n",
    "    if not primes: return [] # base case for recursion\n",
    "    \n",
    "    prime, *nats = primes # get the next prime\n",
    "    \n",
    "    for i in range(len(nats)): # for every other number\n",
    "        if nats[i] % prime == 0: # check if it is composite\n",
    "            nats[i] = None # if yes, cancel it\n",
    "            \n",
    "    return [prime] + filter_primes([n for n in nats if n]) # recur"
   ]
  },
  {
   "cell_type": "code",
   "execution_count": 40,
   "metadata": {
    "collapsed": false,
    "deletable": true,
    "editable": true
   },
   "outputs": [],
   "source": [
    "assert (filter_primes(range(2,52)) == \n",
    "        [2,3,5,7,11,13,17,19,23,29,31,37,41,43,47])"
   ]
  },
  {
   "cell_type": "markdown",
   "metadata": {
    "deletable": true,
    "editable": true,
    "slideshow": {
     "slide_type": "subslide"
    }
   },
   "source": [
    "## functional style"
   ]
  },
  {
   "cell_type": "code",
   "execution_count": 41,
   "metadata": {
    "collapsed": true,
    "deletable": true,
    "editable": true
   },
   "outputs": [],
   "source": [
    "def filter_primes(primes):\n",
    "    \n",
    "    if not primes: return [] # base case for recursion\n",
    "    \n",
    "    prime, *nats = primes # get the next prime\n",
    "    \n",
    "    multiples = {number for number in nats \n",
    "                 if number % prime == 0} # enum multiples of prime\n",
    "    \n",
    "    return [prime] + filter_primes(sorted(set(nats) - multiples)) # recur"
   ]
  },
  {
   "cell_type": "code",
   "execution_count": 42,
   "metadata": {
    "collapsed": false,
    "deletable": true,
    "editable": true
   },
   "outputs": [],
   "source": [
    "assert (filter_primes(range(2,52)) == \n",
    "        [2,3,5,7,11,13,17,19,23,29,31,37,41,43,47])"
   ]
  },
  {
   "cell_type": "markdown",
   "metadata": {
    "deletable": true,
    "editable": true,
    "slideshow": {
     "slide_type": "subslide"
    }
   },
   "source": [
    "## declarative style"
   ]
  },
  {
   "cell_type": "markdown",
   "metadata": {
    "deletable": true,
    "editable": true
   },
   "source": [
    "```haskell\n",
    "> primes = filte_prime [2..51] \n",
    "    where filter_prime (p:xs) = \n",
    "        p : filter_prime [x | x <- xs, x `mod` p /= 0] -- lazily\n",
    "  \n",
    "> primes == [2,3,5,7,11,13,17,19,23,29,31,37,41,43,47]\n",
    "True\n",
    "```"
   ]
  },
  {
   "cell_type": "markdown",
   "metadata": {
    "deletable": true,
    "editable": true,
    "slideshow": {
     "slide_type": "slide"
    }
   },
   "source": [
    "# *inductively-defined* sets"
   ]
  },
  {
   "cell_type": "markdown",
   "metadata": {
    "deletable": true,
    "editable": true,
    "slideshow": {
     "slide_type": "subslide"
    }
   },
   "source": [
    "## a curious numbers machine\n",
    "\n",
    "Let $▢, \\triangle$ be natural numbers in machine \n",
    "\n",
    "$$\n",
    "\\mathcal{C} =  \\left \\lbrace{ \\over 2▢ \\stackrel{\\circ}{\\rightarrow} ▢} , {▢ \\stackrel{\\circ}{\\rightarrow} \\triangle \\over 3▢ \\stackrel{\\circ}{\\rightarrow} \\triangle 2 \\triangle} \\right \\rbrace\n",
    "$$\n",
    "\n",
    "Questions:\n",
    "- enumerate $ \\alpha \\stackrel{\\circ}{\\rightarrow} \\beta $, namely the set of numbers that the machine can produce\n",
    "- does exist a number $\\alpha$ such that $ \\alpha \\stackrel{\\circ}{\\rightarrow} \\alpha $?\n",
    "- does exist a number $\\beta$ such that $ \\beta \\stackrel{\\circ}{\\rightarrow} \\alpha\\beta $, for every number $\\alpha$?\n",
    "\n",
    "*what paradigm do you feel comfortable with in order to answer that requests?*<br>\n",
    "*are you able to generalize the algorithm to handle an arbitrary, inductively defined machine*?\n",
    "\n",
    "---\n",
    "this is part of a puzzle in the chapter *The mystery of the Montecarlo lock* <br>\n",
    "of the book [*The Lady or the Tiger*][book] by logician Raymond Smullyan.\n",
    "\n",
    "[book]:https://www.amazon.com/Lady-Tiger-Other-Puzzles-Recreational/dp/048647027X"
   ]
  },
  {
   "cell_type": "markdown",
   "metadata": {
    "deletable": true,
    "editable": true,
    "slideshow": {
     "slide_type": "subslide"
    }
   },
   "source": [
    "## context-free grammars\n",
    "\n",
    "let $\\mathcal{D}$ be the set of [*Dyck paths*][dyck] and let $\\leadsto$ be a *CFG* defined as follows\n",
    "\n",
    "$$\n",
    "\\left\\lbrace\\begin{array}{l}\n",
    "\\leadsto = \\varepsilon \\\\\n",
    "\\leadsto = \\diagup \\leadsto \\diagdown \\leadsto \\\\\n",
    "\\end{array}\\right\\rbrace\n",
    "$$\n",
    "\n",
    "Questions:\n",
    "- enumerate $\\mathcal{D}$ using $\\leadsto$\n",
    "- what values for α and β work for the following path to be in $\\mathcal{D}$?\n",
    "\n",
    "\n",
    "      α \n",
    "     / β \n",
    "    /   \\\n",
    "     \n",
    "---\n",
    "this CFG has a nice combinat interpretation, actually any other CFG would work\n",
    "\n",
    "[dyck]:http://mathworld.wolfram.com/DyckPath.html"
   ]
  },
  {
   "cell_type": "markdown",
   "metadata": {
    "deletable": true,
    "editable": true,
    "slideshow": {
     "slide_type": "subslide"
    }
   },
   "source": [
    "## recurrence relations"
   ]
  },
  {
   "cell_type": "code",
   "execution_count": 19,
   "metadata": {
    "collapsed": false,
    "deletable": true,
    "editable": true
   },
   "outputs": [
    {
     "data": {
      "image/png": "[encoded data removed]",
      "text/latex": [
       "$$\\mathcal{P}_{6} = \\left[\\begin{matrix}1 & 0 & 0 & 0 & 0 & 0\\\\1 & 1 & 0 & 0 & 0 & 0\\\\1 & 2 & 1 & 0 & 0 & 0\\\\1 & 3 & 3 & 1 & 0 & 0\\\\1 & 4 & 6 & 4 & 1 & 0\\\\1 & 5 & 10 & 10 & 5 & 1\\end{matrix}\\right]$$"
      ],
      "text/plain": [
       "\\mathcal{P}_{6} = ⎡1  0  0   0   0  0⎤\n",
       "                  ⎢                  ⎥\n",
       "                  ⎢1  1  0   0   0  0⎥\n",
       "                  ⎢                  ⎥\n",
       "                  ⎢1  2  1   0   0  0⎥\n",
       "                  ⎢                  ⎥\n",
       "                  ⎢1  3  3   1   0  0⎥\n",
       "                  ⎢                  ⎥\n",
       "                  ⎢1  4  6   4   1  0⎥\n",
       "                  ⎢                  ⎥\n",
       "                  ⎣1  5  10  10  5  1⎦"
      ]
     },
     "execution_count": 19,
     "metadata": {},
     "output_type": "execute_result"
    }
   ],
   "source": [
    "P = symbols(r'\\mathcal{P}_{6}') # the *Pascal matrix*\n",
    "Eq(P, Matrix(6, 6, binomial), evaluate=False)"
   ]
  },
  {
   "cell_type": "markdown",
   "metadata": {
    "deletable": true,
    "editable": true
   },
   "source": [
    "$d_{nk}$ denotes the coefficient at row $n$ and column $k$ satisfying \n",
    "\n",
    "$$d_{n, k} = d_{n-1, k-1} + d_{n-1, k}$$\n",
    "\n",
    "Questions:\n",
    "- are you able to unfold the recurrence at different depths for the generic coeff? \n",
    "- can you generalize for an arbitrary recurrence?"
   ]
  },
  {
   "cell_type": "markdown",
   "metadata": {
    "deletable": true,
    "editable": true,
    "slideshow": {
     "slide_type": "slide"
    }
   },
   "source": [
    "# a bit of theory: *resolutions methods*"
   ]
  },
  {
   "cell_type": "markdown",
   "metadata": {
    "deletable": true,
    "editable": true,
    "slideshow": {
     "slide_type": "subslide"
    }
   },
   "source": [
    "## by refutation\n",
    "\n",
    "Let $\\alpha$ be a *CNF* sentence and $M(\\alpha)$ the set of models that satisfy it;<br>\n",
    "a model is a set of assignments that make $\\alpha$ true.\n",
    "\n",
    "$\\alpha$ is *valid* if it is true in *all* models;\n",
    "oth, it is *satisfiable* if it is true in *some* model.\n",
    "\n",
    "*Logical reasoning* boils down to *entailment* relation $\\models$ between sentences\n",
    "\n",
    "$$\n",
    "    M(\\alpha) \\subseteq M(\\beta) \\leftrightarrow \\alpha \\models \\beta \\leftrightarrow \n",
    "    (\\alpha \\Rightarrow \\beta) \\text{ is valid } \\leftrightarrow (\\neg\\alpha \\vee \\beta) \\text{ is unsatisfiable}\n",
    "$$\n",
    "\n",
    "the *resolution rule* is a *complete* inference algorithm\n",
    "\n",
    "$$\n",
    "    {\n",
    "    l_{0}\\vee \\ldots \\vee l_{i} \\vee \\ldots \\vee l_{j-1} \\quad m_{0}\\vee \\ldots\\vee m_{o}\\vee\\ldots\\vee m_{k-1} \\quad l_{i} = \\neg m_{o}\n",
    "    \\over\n",
    "    l_{0}\\vee \\ldots \\vee l_{i-1}\\vee l_{i+1} \\vee \\ldots\\vee l_{j-1} \\vee  \n",
    "    m_{0}\\vee \\ldots \\vee m_{o-1}\\vee m_{o+1}\\vee\\ldots\\vee m_{k-1}\n",
    "    } \n",
    "$$\n",
    "\n",
    "where $l_{q}, m_{w} \\in\\lbrace 0,1\\rbrace$; finally, if two clauses resolve to yield the empty clause $\\varepsilon$ then $\\alpha\\models\\beta$ holds\n",
    "\n",
    "algorithm [DPLL][dpll] is a recursive, depth-first enumeration of models using resolution<br>\n",
    "paired with *early termination*, *pure symbol* and *unit clause* heuristics to speed up.\n",
    "\n",
    "[dpll]:https://en.wikipedia.org/wiki/DPLL_algorithm"
   ]
  },
  {
   "cell_type": "markdown",
   "metadata": {
    "deletable": true,
    "editable": true,
    "slideshow": {
     "slide_type": "subslide"
    }
   },
   "source": [
    "## by unification\n",
    "\n",
    "it is a process of solving *equations between symbolic expressions*\n",
    "\n",
    "a *solution* is denoted as a *substitution*, namely a mapping assigning<br> \n",
    "a symbolic value to each variable of the problem's expressions\n",
    "\n",
    "*finite terms*: $\\lbrace cons(x,cons(x,nil)) = cons(2,y)\\rbrace \\theta $ holds in subs $\\theta = \\lbrace x \\mapsto 2, y \\mapsto cons(2,nil) \\rbrace$<br>\n",
    "*infinite terms*: $ \\lbrace y = cons(2,y) \\rbrace \\theta $ holds in subs $\\theta = \\lbrace y \\mapsto cons(2,cons(2,cons(2,...))) \\rbrace$ \n",
    "\n",
    "let $G$ be a set of equations, unification proceeds according to the following rules:\n",
    "- *delete*: $G \\cup \\lbrace t = t \\rbrace \\rightarrow G$\n",
    "- *decompose*: $G \\cup \\lbrace f(s_{0}, \\ldots, s_{k}) = f(t_{0}, \\ldots, t_{k})\\rbrace \\rightarrow G \\cup \\lbrace s_{0}=t_{0},\\ldots, s_{k}=t_{k} \\rbrace$\n",
    "- *conflict*: if $f\\neq g \\vee k\\neq m$ then $G \\cup \\lbrace f(s_{0}, \\ldots, s_{k}) = g(t_{0}, \\ldots, t_{m})\\rbrace \\rightarrow \\,\\perp$\n",
    "- *eliminate*: \tif $x \\not\\in vars(t)$ and $x \\in vars(G)$ then $G \\cup \\lbrace x = t\\rbrace \\rightarrow G\\lbrace x \\mapsto t\\rbrace \\cup \\left\\lbrace x \\triangleq t\\right\\rbrace $\n",
    "- *occur check*: if $x \\in vars(f(s_{0},\\ldots,s_{k}))$ then $G \\cup \\lbrace x = t(s_{0}, \\ldots, s_{k}\\rbrace \\rightarrow \\,\\perp$\n",
    "\n",
    "without *occur checks*, generating a substitution $\\theta$ is a *recursive enumerable* problem"
   ]
  },
  {
   "cell_type": "markdown",
   "metadata": {
    "deletable": true,
    "editable": true,
    "slideshow": {
     "slide_type": "slide"
    }
   },
   "source": [
    "# microkanren"
   ]
  },
  {
   "cell_type": "markdown",
   "metadata": {
    "deletable": true,
    "editable": true,
    "slideshow": {
     "slide_type": "subslide"
    }
   },
   "source": [
    "meet _microKanren_\n",
    "- a DSL for relational programming, in Scheme\n",
    "- purely functional of [_miniKanren_][mk]\n",
    "- *explicit streams* of satisfying states, _goal-based_ approach\n",
    "- _unification_ instead of _SLD-NF resolution_\n",
    "- complete, _unfair_ search strategy\n",
    "\n",
    "my contribution\n",
    "- _Pythonic_ [implementation][mkpy]: functional at the core, objective at the interface\n",
    "- generators subsume _countably_-satisfiable relations; complete, _fair_ [search][dovetail]\n",
    "- _The Reasoned Schemer_ fully tested via [Travis CI][travis]; moreover, [read the docs][rtfd]\n",
    "- case studies: Smullyan puzzles and combinatorics\n",
    "- tweaking HOL Light for _certified deductions_, [wip][klight]\n",
    "\n",
    "[mk]:http://minikanren.org/\n",
    "[travis]:https://travis-ci.org/massimo-nocentini/microkanrenpy\n",
    "[rtfd]:http://microkanrenpy.readthedocs.io/en/latest/\n",
    "[klight]:https://github.com/massimo-nocentini/kanren-light\n",
    "[mkpy]:https://github.com/massimo-nocentini/microkanrenpy\n",
    "[dovetail]:http://microkanrenpy.readthedocs.io/en/latest/under_the_hood.html#muk.core.mplus"
   ]
  },
  {
   "cell_type": "code",
   "execution_count": 6,
   "metadata": {
    "collapsed": false,
    "deletable": true,
    "editable": true,
    "slideshow": {
     "slide_type": "subslide"
    }
   },
   "outputs": [
    {
     "data": {
      "text/plain": [
       "▢₀"
      ]
     },
     "execution_count": 6,
     "metadata": {},
     "output_type": "execute_result"
    }
   ],
   "source": [
    "rvar(0) # a logic variable"
   ]
  },
  {
   "cell_type": "code",
   "execution_count": 7,
   "metadata": {
    "collapsed": false,
    "deletable": true,
    "editable": true,
    "slideshow": {
     "slide_type": "fragment"
    }
   },
   "outputs": [
    {
     "data": {
      "text/plain": [
       "[Tautology]"
      ]
     },
     "execution_count": 7,
     "metadata": {},
     "output_type": "execute_result"
    }
   ],
   "source": [
    "run(succeed) # a goal that always succeeds"
   ]
  },
  {
   "cell_type": "code",
   "execution_count": 8,
   "metadata": {
    "collapsed": false,
    "deletable": true,
    "editable": true,
    "slideshow": {
     "slide_type": "fragment"
    }
   },
   "outputs": [
    {
     "data": {
      "image/png": "[encoded data removed]",
      "text/latex": [
       "$$\\left [ \\right ]$$"
      ],
      "text/plain": [
       "[]"
      ]
     },
     "execution_count": 8,
     "metadata": {},
     "output_type": "execute_result"
    }
   ],
   "source": [
    "run(fail) # a goal that always fails"
   ]
  },
  {
   "cell_type": "code",
   "execution_count": 9,
   "metadata": {
    "collapsed": false,
    "deletable": true,
    "editable": true,
    "slideshow": {
     "slide_type": "fragment"
    }
   },
   "outputs": [
    {
     "data": {
      "text/plain": [
       "[▢₀]"
      ]
     },
     "execution_count": 9,
     "metadata": {},
     "output_type": "execute_result"
    }
   ],
   "source": [
    "run(fresh(lambda q: succeed)) # a free variable without association"
   ]
  },
  {
   "cell_type": "code",
   "execution_count": 10,
   "metadata": {
    "collapsed": false,
    "deletable": true,
    "editable": true,
    "slideshow": {
     "slide_type": "fragment"
    }
   },
   "outputs": [
    {
     "data": {
      "text/plain": [
       "[Tautology]"
      ]
     },
     "execution_count": 10,
     "metadata": {},
     "output_type": "execute_result"
    }
   ],
   "source": [
    "run(unify(3, 3)) # unification of ground values"
   ]
  },
  {
   "cell_type": "code",
   "execution_count": 11,
   "metadata": {
    "collapsed": false,
    "deletable": true,
    "editable": true,
    "slideshow": {
     "slide_type": "fragment"
    }
   },
   "outputs": [
    {
     "data": {
      "image/png": "[encoded data removed]",
      "text/latex": [
       "$$\\left [ 3\\right ]$$"
      ],
      "text/plain": [
       "[3]"
      ]
     },
     "execution_count": 11,
     "metadata": {},
     "output_type": "execute_result"
    }
   ],
   "source": [
    "run(fresh(lambda q: unify(3, q))) # unification of a variable"
   ]
  },
  {
   "cell_type": "code",
   "execution_count": 12,
   "metadata": {
    "collapsed": false,
    "deletable": true,
    "editable": true,
    "slideshow": {
     "slide_type": "fragment"
    }
   },
   "outputs": [
    {
     "data": {
      "image/png": "[encoded data removed]",
      "text/latex": [
       "$$\\left [ \\left [ 2, \\quad 3\\right ]\\right ]$$"
      ],
      "text/plain": [
       "[[2, 3]]"
      ]
     },
     "execution_count": 12,
     "metadata": {},
     "output_type": "execute_result"
    }
   ],
   "source": [
    "run(fresh(lambda q: unify([[2, 3], 1, 2, 3], [q, 1] + q))) # list unification"
   ]
  },
  {
   "cell_type": "code",
   "execution_count": 13,
   "metadata": {
    "collapsed": false,
    "deletable": true,
    "editable": true,
    "slideshow": {
     "slide_type": "subslide"
    }
   },
   "outputs": [
    {
     "data": {
      "image/png": "[encoded data removed]",
      "text/latex": [
       "$$\\left [ 3\\right ]$$"
      ],
      "text/plain": [
       "[3]"
      ]
     },
     "execution_count": 13,
     "metadata": {},
     "output_type": "execute_result"
    }
   ],
   "source": [
    "run(fresh(lambda q, z: unify(q, z) & unify(z, 3))) # co-sharing"
   ]
  },
  {
   "cell_type": "code",
   "execution_count": 14,
   "metadata": {
    "collapsed": false,
    "deletable": true,
    "editable": true,
    "slideshow": {
     "slide_type": "fragment"
    }
   },
   "outputs": [
    {
     "data": {
      "text/plain": [
       "[False, True]"
      ]
     },
     "execution_count": 14,
     "metadata": {},
     "output_type": "execute_result"
    }
   ],
   "source": [
    "run(fresh(lambda q: unify(q, False) | unify(q, True))) # disjunction"
   ]
  },
  {
   "cell_type": "code",
   "execution_count": 15,
   "metadata": {
    "collapsed": false,
    "deletable": true,
    "editable": true,
    "slideshow": {
     "slide_type": "fragment"
    }
   },
   "outputs": [
    {
     "data": {
      "text/plain": [
       "[True]"
      ]
     },
     "execution_count": 15,
     "metadata": {},
     "output_type": "execute_result"
    }
   ],
   "source": [
    "run(fresh(lambda q: \n",
    "          fresh(lambda q: unify(q, False)) & \n",
    "          unify(q, True))) # conjunction"
   ]
  },
  {
   "cell_type": "code",
   "execution_count": 16,
   "metadata": {
    "collapsed": false,
    "deletable": true,
    "editable": true,
    "slideshow": {
     "slide_type": "fragment"
    }
   },
   "outputs": [
    {
     "data": {
      "text/plain": [
       "[['paul', 'tom'], ['jason', 'peter'], ['tom', 'brian']]"
      ]
     },
     "execution_count": 16,
     "metadata": {},
     "output_type": "execute_result"
    }
   ],
   "source": [
    "def father(p, s):\n",
    "    return conde([unify(p, 'paul'), unify(s, 'jason')],\n",
    "                 [unify(p, 'john'), unify(s, 'henry')],\n",
    "                 [unify(p, 'jason'), unify(s, 'tom')],\n",
    "                 [unify(p, 'peter'), unify(s, 'brian')],\n",
    "                 [unify(p, 'tom'), unify(s, 'peter')])\n",
    "\n",
    "def grand_father(g, s):\n",
    "    return fresh(lambda p: father(g, p) & father(p, s))\n",
    "\n",
    "run(fresh(lambda rel, p, s: grand_father(p, s) & unify([p, s], rel)))"
   ]
  },
  {
   "cell_type": "markdown",
   "metadata": {
    "slideshow": {
     "slide_type": "subslide"
    }
   },
   "source": [
    "# a curious numbers machine\n",
    "\n",
    "Recap, let $▢, \\triangle$ be natural numbers in machine \n",
    "\n",
    "$$\n",
    "\\mathcal{C} =  \\left \\lbrace{ \\over 2▢ \\stackrel{\\circ}{\\rightarrow} ▢} , {▢ \\stackrel{\\circ}{\\rightarrow} \\triangle \\over 3▢ \\stackrel{\\circ}{\\rightarrow} \\triangle 2 \\triangle} \\right \\rbrace\n",
    "$$\n",
    "\n",
    "\n",
    "```python\n",
    "def machine(*, rules): # an abstract machine\n",
    "    def M(α, β):           \n",
    "        return condi(*[[r(α, β, machine=M), succeed] for r in rules], dovetail=True)         \n",
    "    return M \n",
    "\n",
    "def associateo(γ, γ2γ): # a number ctor\n",
    "    return appendo(γ, [2]+γ, γ2γ)\n",
    "    \n",
    "def mcculloch_first_ruleo(α, β, *, machine): # McCulloch machine's first rule\n",
    "    return unify([2]+β, α)\n",
    "\n",
    "def mcculloch_second_ruleo(α, δ2δ, *, machine): # McCulloch machine's second rule\n",
    "    return fresh(lambda η, δ: unify([3]+η, α) \n",
    "                            & associateo(δ, δ2δ) \n",
    "                            & machine(η, δ))\n",
    "    \n",
    "mccullocho = machine(rules=[ mcculloch_second_ruleo, mcculloch_first_ruleo, ])\n",
    "```"
   ]
  },
  {
   "cell_type": "markdown",
   "metadata": {
    "slideshow": {
     "slide_type": "fragment"
    }
   },
   "source": [
    "## about the first rule "
   ]
  },
  {
   "cell_type": "code",
   "execution_count": 11,
   "metadata": {
    "collapsed": false,
    "slideshow": {
     "slide_type": "-"
    }
   },
   "outputs": [
    {
     "data": {
      "text/plain": [
       "[Tautology]"
      ]
     },
     "execution_count": 11,
     "metadata": {},
     "output_type": "execute_result"
    }
   ],
   "source": [
    "run(mccullocho([2,3,4,5], [3,4,5])) # check"
   ]
  },
  {
   "cell_type": "code",
   "execution_count": 10,
   "metadata": {
    "collapsed": false
   },
   "outputs": [
    {
     "data": {
      "image/png": "[encoded data removed]",
      "text/latex": [
       "$$\\left [ \\right ]$$"
      ],
      "text/plain": [
       "[]"
      ]
     },
     "execution_count": 10,
     "metadata": {},
     "output_type": "execute_result"
    }
   ],
   "source": [
    "run(fresh(lambda α, β: mccullocho([4]+β, α))) # attempt to break rules"
   ]
  },
  {
   "cell_type": "code",
   "execution_count": 12,
   "metadata": {
    "collapsed": false
   },
   "outputs": [
    {
     "data": {
      "image/png": "[encoded data removed]",
      "text/latex": [
       "$$\\left [ \\left [ 3, \\quad 4, \\quad 5\\right ]\\right ]$$"
      ],
      "text/plain": [
       "[[3, 4, 5]]"
      ]
     },
     "execution_count": 12,
     "metadata": {},
     "output_type": "execute_result"
    }
   ],
   "source": [
    "run(fresh(lambda α: mccullocho([2,3,4,5], α))) # computing forwards"
   ]
  },
  {
   "cell_type": "code",
   "execution_count": 13,
   "metadata": {
    "collapsed": false
   },
   "outputs": [
    {
     "data": {
      "image/png": "[encoded data removed]",
      "text/latex": [
       "$$\\left [ \\left [ 2, \\quad 3, \\quad 4, \\quad 5\\right ]\\right ]$$"
      ],
      "text/plain": [
       "[[2, 3, 4, 5]]"
      ]
     },
     "execution_count": 13,
     "metadata": {},
     "output_type": "execute_result"
    }
   ],
   "source": [
    "run(fresh(lambda α: mccullocho(α, [3,4,5]))) # computing backwards"
   ]
  },
  {
   "cell_type": "markdown",
   "metadata": {
    "deletable": true,
    "editable": true,
    "slideshow": {
     "slide_type": "fragment"
    }
   },
   "source": [
    "## about the second rule\n",
    "\n"
   ]
  },
  {
   "cell_type": "code",
   "execution_count": 15,
   "metadata": {
    "collapsed": false
   },
   "outputs": [
    {
     "data": {
      "text/plain": [
       "[Tautology]"
      ]
     },
     "execution_count": 15,
     "metadata": {},
     "output_type": "execute_result"
    }
   ],
   "source": [
    "run(mccullocho([3,2,5], [5,2,5]))"
   ]
  },
  {
   "cell_type": "code",
   "execution_count": 18,
   "metadata": {
    "collapsed": false
   },
   "outputs": [
    {
     "data": {
      "image/png": "[encoded data removed]",
      "text/latex": [
       "$$\\left [ \\left [ 5, \\quad 2, \\quad 5, \\quad 2, \\quad 5, \\quad 2, \\quad 5\\right ]\\right ]$$"
      ],
      "text/plain": [
       "[[5, 2, 5, 2, 5, 2, 5]]"
      ]
     },
     "execution_count": 18,
     "metadata": {},
     "output_type": "execute_result"
    }
   ],
   "source": [
    "run(fresh(lambda α: mccullocho([3,3,2,5], α)), n=1)"
   ]
  },
  {
   "cell_type": "code",
   "execution_count": 19,
   "metadata": {
    "collapsed": false
   },
   "outputs": [
    {
     "data": {
      "image/png": "[encoded data removed]",
      "text/latex": [
       "$$\\left [ \\left [ 3, \\quad 3, \\quad 2, \\quad 5\\right ], \\quad \\left [ 2, \\quad 5, \\quad 2, \\quad 5, \\quad 2, \\quad 5, \\quad 2, \\quad 5\\right ], \\quad \\left [ 3, \\quad 2, \\quad 5, \\quad 2, \\quad 5\\right ]\\right ]$$"
      ],
      "text/plain": [
       "[[3, 3, 2, 5], [2, 5, 2, 5, 2, 5, 2, 5], [3, 2, 5, 2, 5]]"
      ]
     },
     "execution_count": 19,
     "metadata": {},
     "output_type": "execute_result"
    }
   ],
   "source": [
    "run(fresh(lambda β: mccullocho(β, [5,2,5,2,5,2,5])))"
   ]
  },
  {
   "cell_type": "markdown",
   "metadata": {
    "slideshow": {
     "slide_type": "fragment"
    }
   },
   "source": [
    "## answers"
   ]
  },
  {
   "cell_type": "code",
   "execution_count": 24,
   "metadata": {
    "collapsed": false
   },
   "outputs": [
    {
     "data": {
      "text/plain": [
       "[[[3, 2], [2]],\n",
       " [[2] + ▢₀, ▢₀],\n",
       " [[3, 3, 2], [2, 2, 2]],\n",
       " [[3, 2, ▢₀], [▢₀, 2, ▢₀]],\n",
       " [[3, 2, ▢₀, ▢₁], [▢₀, ▢₁, 2, ▢₀, ▢₁]],\n",
       " [[3, 3, 3, 2], [2, 2, 2, 2, 2, 2, 2]],\n",
       " [[3, 2, ▢₀, ▢₁, ▢₂], [▢₀, ▢₁, ▢₂, 2, ▢₀, ▢₁, ▢₂]],\n",
       " [[3, 3, 2, ▢₀], [▢₀, 2, ▢₀, 2, ▢₀, 2, ▢₀]],\n",
       " [[3, 2, ▢₀, ▢₁, ▢₂, ▢₃], [▢₀, ▢₁, ▢₂, ▢₃, 2, ▢₀, ▢₁, ▢₂, ▢₃]],\n",
       " [[3, 3, 2, ▢₀, ▢₁], [▢₀, ▢₁, 2, ▢₀, ▢₁, 2, ▢₀, ▢₁, 2, ▢₀, ▢₁]]]"
      ]
     },
     "execution_count": 24,
     "metadata": {},
     "output_type": "execute_result"
    }
   ],
   "source": [
    "run(fresh(lambda p, α, β: mccullocho(α, β) & unify([α, β], p)), n=10) # enumeration"
   ]
  },
  {
   "cell_type": "code",
   "execution_count": 25,
   "metadata": {
    "collapsed": false,
    "deletable": true,
    "editable": true
   },
   "outputs": [
    {
     "data": {
      "image/png": "[encoded data removed]",
      "text/latex": [
       "$$\\left [ \\left [ 3, \\quad 2, \\quad 3\\right ]\\right ]$$"
      ],
      "text/plain": [
       "[[3, 2, 3]]"
      ]
     },
     "execution_count": 25,
     "metadata": {},
     "output_type": "execute_result"
    }
   ],
   "source": [
    "run(fresh(lambda α: mccullocho(α, α)), n=1) # fixpoint"
   ]
  },
  {
   "cell_type": "code",
   "execution_count": 30,
   "metadata": {
    "collapsed": false
   },
   "outputs": [
    {
     "data": {
      "text/plain": [
       "[[[3, 2, ▢₀, 3], [▢₀, 3, 2, ▢₀, 3]],\n",
       " [[3, 2, ▢₀, ▢₁, 3], [▢₀, ▢₁, 3, 2, ▢₀, ▢₁, 3]],\n",
       " [[3, 2, ▢₀, ▢₁, ▢₂, 3], [▢₀, ▢₁, ▢₂, 3, 2, ▢₀, ▢₁, ▢₂, 3]],\n",
       " [[3, 2, ▢₀, ▢₁, ▢₂, ▢₃, 3], [▢₀, ▢₁, ▢₂, ▢₃, 3, 2, ▢₀, ▢₁, ▢₂, ▢₃, 3]],\n",
       " [[3, 2, ▢₀, ▢₁, ▢₂, ▢₃, ▢₄, 3],\n",
       "  [▢₀, ▢₁, ▢₂, ▢₃, ▢₄, 3, 2, ▢₀, ▢₁, ▢₂, ▢₃, ▢₄, 3]]]"
      ]
     },
     "execution_count": 30,
     "metadata": {},
     "output_type": "execute_result"
    }
   ],
   "source": [
    "run(fresh(lambda out, γ, αγ: \n",
    "            mcculloch_lawo(γ, αγ) \n",
    "          & unify([γ, αγ], out)), n=5) # McCulloch's law"
   ]
  },
  {
   "cell_type": "markdown",
   "metadata": {
    "slideshow": {
     "slide_type": "subslide"
    }
   },
   "source": [
    "# Dyck paths' CFG"
   ]
  },
  {
   "cell_type": "code",
   "execution_count": 26,
   "metadata": {
    "collapsed": false,
    "deletable": true,
    "editable": true,
    "slideshow": {
     "slide_type": "-"
    }
   },
   "outputs": [],
   "source": [
    "def dycko(α):\n",
    "    return conde([nullo(α), succeed],\n",
    "                  else_clause=fresh(lambda β, γ:\n",
    "                                    appendo(['(']+β, [')']+γ, α) @ \n",
    "                                            (dycko(β) @ dycko(γ))))\n",
    "\n",
    "paths = run(fresh(lambda α: dycko(α)), n=80)\n",
    "D = defaultdict(list)\n",
    "for α in map(lambda α: ''.join(α), paths):\n",
    "    D[len(α)//2].append(α)"
   ]
  },
  {
   "cell_type": "code",
   "execution_count": 27,
   "metadata": {
    "collapsed": true,
    "deletable": true,
    "editable": true,
    "slideshow": {
     "slide_type": "skip"
    }
   },
   "outputs": [],
   "source": [
    "from collections import namedtuple\n",
    "\n",
    "dyck = namedtuple('dyck', ['paths', 'count'])"
   ]
  },
  {
   "cell_type": "code",
   "execution_count": 28,
   "metadata": {
    "collapsed": false,
    "deletable": true,
    "editable": true,
    "slideshow": {
     "slide_type": "-"
    }
   },
   "outputs": [
    {
     "data": {
      "text/plain": [
       "[dyck(paths=[''], count=1),\n",
       " dyck(paths=['()'], count=1),\n",
       " dyck(paths=['()()', '(())'], count=2),\n",
       " dyck(paths=['()()()', '(())()', '()(())', '(()())', '((()))'], count=5),\n",
       " dyck(paths=['(())()()', '()()()()', '(())(())', '()(())()', '(()()())', '(()())()', '()()(())', '(()(()))', '((()))()', '()(()())', '((())())', '()((()))', '((()()))', '(((())))'], count=14)]"
      ]
     },
     "execution_count": 28,
     "metadata": {},
     "output_type": "execute_result"
    }
   ],
   "source": [
    "[dyck(paths, len(paths)) for i in range(5) for paths in [D[i]]]"
   ]
  },
  {
   "cell_type": "markdown",
   "metadata": {
    "slideshow": {
     "slide_type": "subslide"
    }
   },
   "source": [
    "# Pascal triangle"
   ]
  },
  {
   "cell_type": "code",
   "execution_count": 29,
   "metadata": {
    "collapsed": false,
    "deletable": true,
    "editable": true,
    "slideshow": {
     "slide_type": "-"
    }
   },
   "outputs": [],
   "source": [
    "P = IndexedBase('P')\n",
    "n, m = symbols('n m')\n",
    "\n",
    "def pascalo(depth, r, c, α):\n",
    "    if not depth: return unify([P[r,c]], α)\n",
    "    return fresh(lambda β, γ: (pascalo(depth-1, r-1, c-1, β) @\n",
    "                               pascalo(depth-1, r-1, c, γ) @\n",
    "                               appendo(β, γ, α)))\n",
    "\n",
    "unfoldings = {d:sum(addends)\n",
    "              for d in range(6) \n",
    "              for addends in run(fresh(lambda α: pascalo(d, n, m, α)))}"
   ]
  },
  {
   "cell_type": "code",
   "execution_count": 30,
   "metadata": {
    "collapsed": false,
    "deletable": true,
    "editable": true
   },
   "outputs": [
    {
     "data": {
      "image/png": "[encoded data removed]",
      "text/latex": [
       "$$\\left[\\begin{matrix}P_{n - 1,m} + P_{n - 1,m - 1}\\\\P_{n - 2,m} + P_{n - 2,m - 2} + 2 P_{n - 2,m - 1}\\\\P_{n - 3,m} + P_{n - 3,m - 3} + 3 P_{n - 3,m - 2} + 3 P_{n - 3,m - 1}\\\\P_{n - 4,m} + P_{n - 4,m - 4} + 4 P_{n - 4,m - 3} + 6 P_{n - 4,m - 2} + 4 P_{n - 4,m - 1}\\\\P_{n - 5,m} + P_{n - 5,m - 5} + 5 P_{n - 5,m - 4} + 10 P_{n - 5,m - 3} + 10 P_{n - 5,m - 2} + 5 P_{n - 5,m - 1}\\end{matrix}\\right]$$"
      ],
      "text/plain": [
       "⎡                                         P[n - 1, m] + P[n - 1, m - 1]       \n",
       "⎢                                                                             \n",
       "⎢                               P[n - 2, m] + P[n - 2, m - 2] + 2⋅P[n - 2, m -\n",
       "⎢                                                                             \n",
       "⎢                     P[n - 3, m] + P[n - 3, m - 3] + 3⋅P[n - 3, m - 2] + 3⋅P[\n",
       "⎢                                                                             \n",
       "⎢           P[n - 4, m] + P[n - 4, m - 4] + 4⋅P[n - 4, m - 3] + 6⋅P[n - 4, m -\n",
       "⎢                                                                             \n",
       "⎣P[n - 5, m] + P[n - 5, m - 5] + 5⋅P[n - 5, m - 4] + 10⋅P[n - 5, m - 3] + 10⋅P\n",
       "\n",
       "                                  ⎤\n",
       "                                  ⎥\n",
       " 1]                               ⎥\n",
       "                                  ⎥\n",
       "n - 3, m - 1]                     ⎥\n",
       "                                  ⎥\n",
       " 2] + 4⋅P[n - 4, m - 1]           ⎥\n",
       "                                  ⎥\n",
       "[n - 5, m - 2] + 5⋅P[n - 5, m - 1]⎦"
      ]
     },
     "execution_count": 30,
     "metadata": {},
     "output_type": "execute_result"
    }
   ],
   "source": [
    "Matrix(5, 1, lambda i, j: unfoldings[i+1])"
   ]
  },
  {
   "cell_type": "code",
   "execution_count": 32,
   "metadata": {
    "collapsed": false,
    "deletable": true,
    "editable": true,
    "slideshow": {
     "slide_type": "slide"
    }
   },
   "outputs": [
    {
     "name": "stdout",
     "output_type": "stream",
     "text": [
      "The Zen of Python, by Tim Peters\n",
      "\n",
      "Beautiful is better than ugly.\n",
      "Explicit is better than implicit.\n",
      "Simple is better than complex.\n",
      "Complex is better than complicated.\n",
      "Flat is better than nested.\n",
      "Sparse is better than dense.\n",
      "Readability counts.\n",
      "Special cases aren't special enough to break the rules.\n",
      "Although practicality beats purity.\n",
      "Errors should never pass silently.\n",
      "Unless explicitly silenced.\n",
      "In the face of ambiguity, refuse the temptation to guess.\n",
      "There should be one-- and preferably only one --obvious way to do it.\n",
      "Although that way may not be obvious at first unless you're Dutch.\n",
      "Now is better than never.\n",
      "Although never is often better than *right* now.\n",
      "If the implementation is hard to explain, it's a bad idea.\n",
      "If the implementation is easy to explain, it may be a good idea.\n",
      "Namespaces are one honking great idea -- let's do more of those!\n"
     ]
    }
   ],
   "source": [
    "try: \n",
    "    next_topic()\n",
    "except StopIteration: \n",
    "    import this"
   ]
  },
  {
   "cell_type": "code",
   "execution_count": 31,
   "metadata": {
    "collapsed": false,
    "deletable": true,
    "editable": true,
    "slideshow": {
     "slide_type": "-"
    }
   },
   "outputs": [
    {
     "data": {
      "text/markdown": [
       "<h1>Thanks for coming  :)</h1>"
      ],
      "text/plain": [
       "<IPython.core.display.Markdown object>"
      ]
     },
     "execution_count": 31,
     "metadata": {},
     "output_type": "execute_result"
    }
   ],
   "source": [
    "greetings(smiley=True)"
   ]
  },
  {
   "cell_type": "code",
   "execution_count": 17,
   "metadata": {
    "collapsed": false,
    "deletable": true,
    "editable": true,
    "slideshow": {
     "slide_type": "subslide"
    }
   },
   "outputs": [],
   "source": [
    "def fives(x):\n",
    "    return unify(5, x) | fives(x)\n",
    "\n",
    "try:\n",
    "    run(fresh(lambda x: fives(x)))\n",
    "except RecursionError:\n",
    "    pass"
   ]
  },
  {
   "cell_type": "code",
   "execution_count": 18,
   "metadata": {
    "collapsed": false,
    "deletable": true,
    "editable": true,
    "slideshow": {
     "slide_type": "fragment"
    }
   },
   "outputs": [
    {
     "data": {
      "text/plain": [
       "[5, ▢₀, ▢₀, ▢₀, ▢₀]"
      ]
     },
     "execution_count": 18,
     "metadata": {},
     "output_type": "execute_result"
    }
   ],
   "source": [
    "def fives(x):\n",
    "    return unify(5, x) | fresh(lambda y: fives(y))\n",
    "\n",
    "run(fresh(fives), n=5)"
   ]
  },
  {
   "cell_type": "code",
   "execution_count": 19,
   "metadata": {
    "collapsed": false,
    "deletable": true,
    "editable": true,
    "slideshow": {
     "slide_type": "fragment"
    }
   },
   "outputs": [
    {
     "data": {
      "text/plain": [
       "[state(sub={x₀: 5}, next_index=1),\n",
       " state(sub={y₁: 5}, next_index=2),\n",
       " state(sub={y₂: 5}, next_index=3),\n",
       " state(sub={y₃: 5}, next_index=4),\n",
       " state(sub={y₄: 5}, next_index=5)]"
      ]
     },
     "execution_count": 19,
     "metadata": {},
     "output_type": "execute_result"
    }
   ],
   "source": [
    "g = fresh(lambda x: fives(x))\n",
    "states = g(emptystate())\n",
    "[next(states) for i in range(5)]"
   ]
  },
  {
   "cell_type": "code",
   "execution_count": 20,
   "metadata": {
    "collapsed": false,
    "deletable": true,
    "editable": true,
    "slideshow": {
     "slide_type": "fragment"
    }
   },
   "outputs": [
    {
     "data": {
      "image/png": "[encoded data removed]",
      "text/latex": [
       "$$\\left [ 5, \\quad 5, \\quad 5, \\quad 5, \\quad 5\\right ]$$"
      ],
      "text/plain": [
       "[5, 5, 5, 5, 5]"
      ]
     },
     "execution_count": 20,
     "metadata": {},
     "output_type": "execute_result"
    }
   ],
   "source": [
    "def fives(x):\n",
    "    return unify(5, x) | fresh(lambda: fives(x))\n",
    "\n",
    "run(fresh(fives), n=5)"
   ]
  },
  {
   "cell_type": "code",
   "execution_count": 21,
   "metadata": {
    "collapsed": false,
    "deletable": true,
    "editable": true,
    "slideshow": {
     "slide_type": "fragment"
    }
   },
   "outputs": [
    {
     "data": {
      "text/plain": [
       "[state(sub={x₀: 5}, next_index=1),\n",
       " state(sub={x₀: 5}, next_index=1),\n",
       " state(sub={x₀: 5}, next_index=1),\n",
       " state(sub={x₀: 5}, next_index=1),\n",
       " state(sub={x₀: 5}, next_index=1)]"
      ]
     },
     "execution_count": 21,
     "metadata": {},
     "output_type": "execute_result"
    }
   ],
   "source": [
    "g = fresh(lambda x: fives(x))\n",
    "states = g(emptystate())\n",
    "[next(states) for i in range(5)]"
   ]
  },
  {
   "cell_type": "code",
   "execution_count": 22,
   "metadata": {
    "collapsed": false,
    "deletable": true,
    "editable": true,
    "slideshow": {
     "slide_type": "subslide"
    }
   },
   "outputs": [
    {
     "data": {
      "image/png": "[encoded data removed]",
      "text/latex": [
       "$$\\left [ 0, \\quad 1, \\quad 2, \\quad 3, \\quad 4, \\quad 5, \\quad 6, \\quad 7, \\quad 8, \\quad 9\\right ]$$"
      ],
      "text/plain": [
       "[0, 1, 2, 3, 4, 5, 6, 7, 8, 9]"
      ]
     },
     "execution_count": 22,
     "metadata": {},
     "output_type": "execute_result"
    }
   ],
   "source": [
    "def nats(x, n=0):\n",
    "    return unify(n, x) | fresh(lambda: nats(x, n+1))\n",
    "\n",
    "run(fresh(lambda x: nats(x)), n=10)"
   ]
  },
  {
   "cell_type": "code",
   "execution_count": 23,
   "metadata": {
    "collapsed": false,
    "deletable": true,
    "editable": true,
    "slideshow": {
     "slide_type": "skip"
    }
   },
   "outputs": [],
   "source": [
    "def nullo(l):\n",
    "    return unify([], l)\n",
    "\n",
    "def appendo(r, s, out):\n",
    "    def A(r, out):\n",
    "        return conde([nullo(r), unify(s, out)],\n",
    "                     else_clause=fresh(lambda a, d, res:\n",
    "                                           unify([a]+d, r) &\n",
    "                                           unify([a]+res, out) &\n",
    "                                           fresh(lambda: A(d, res))))\n",
    "§    return A(r, out)"
   ]
  },
  {
   "cell_type": "code",
   "execution_count": 24,
   "metadata": {
    "collapsed": false,
    "deletable": true,
    "editable": true,
    "slideshow": {
     "slide_type": "fragment"
    }
   },
   "outputs": [
    {
     "data": {
      "text/plain": [
       "[[1, 2, 3, 4, 5, 6],\n",
       " [1, 2, 3, ▢₀, 4, 5, 6],\n",
       " [1, 2, 3, ▢₀, ▢₁, 4, 5, 6],\n",
       " [1, 2, 3, ▢₀, ▢₁, ▢₂, 4, 5, 6],\n",
       " [1, 2, 3, ▢₀, ▢₁, ▢₂, ▢₃, 4, 5, 6]]"
      ]
     },
     "execution_count": 24,
     "metadata": {},
     "output_type": "execute_result"
    }
   ],
   "source": [
    "run(fresh(lambda l, q: appendo([1,2,3]+q, [4,5,6], l)), n=5)"
   ]
  },
  {
   "cell_type": "code",
   "execution_count": 14,
   "metadata": {
    "collapsed": false,
    "deletable": true,
    "editable": true,
    "slideshow": {
     "slide_type": "fragment"
    }
   },
   "outputs": [
    {
     "data": {
      "text/plain": [
       "[[[], ['cake', 'with', 'ice', 'd', 't']],\n",
       " [['cake'], ['with', 'ice', 'd', 't']],\n",
       " [['cake', 'with'], ['ice', 'd', 't']],\n",
       " [['cake', 'with', 'ice'], ['d', 't']],\n",
       " [['cake', 'with', 'ice', 'd'], ['t']],\n",
       " [['cake', 'with', 'ice', 'd', 't'], []]]"
      ]
     },
     "execution_count": 14,
     "metadata": {},
     "output_type": "execute_result"
    }
   ],
   "source": [
    "run(fresh(lambda r, x, y:\n",
    "          appendo(x, y, ['cake', 'with', 'ice', 'd', 't']) &\n",
    "          unify([x, y], r))) "
   ]
  },
  {
   "cell_type": "markdown",
   "metadata": {
    "deletable": true,
    "editable": true,
    "slideshow": {
     "slide_type": "skip"
    }
   },
   "source": [
    "---\n",
    "<a rel=\"license\" href=\"http://creativecommons.org/licenses/by-nc-sa/4.0/\"><img alt=\"Creative Commons License\" style=\"border-width:0\" src=\"https://i.creativecommons.org/l/by-nc-sa/4.0/88x31.png\" /></a><br />This work is licensed under a <a rel=\"license\" href=\"http://creativecommons.org/licenses/by-nc-sa/4.0/\">Creative Commons Attribution-NonCommercial-ShareAlike 4.0 International License</a>."
   ]
  }
 ],
 "metadata": {
  "celltoolbar": "Slideshow",
  "kernelspec": {
   "display_name": "Python 3",
   "language": "python",
   "name": "python3"
  },
  "language_info": {
   "codemirror_mode": {
    "name": "ipython",
    "version": 3
   },
   "file_extension": ".py",
   "mimetype": "text/x-python",
   "name": "python",
   "nbconvert_exporter": "python",
   "pygments_lexer": "ipython3",
   "version": "3.6.0"
  }
 },
 "nbformat": 4,
 "nbformat_minor": 0
}
